{
 "cells": [
  {
   "cell_type": "code",
   "execution_count": 11,
   "metadata": {},
   "outputs": [],
   "source": [
    "import sympy"
   ]
  },
  {
   "cell_type": "code",
   "execution_count": 12,
   "metadata": {},
   "outputs": [],
   "source": [
    "alpha=sympy.Symbol('alpha')\n",
    "eta=sympy.Symbol('eta')\n",
    "k=sympy.Symbol('k')\n",
    "n=sympy.Symbol('n')"
   ]
  },
  {
   "cell_type": "markdown",
   "metadata": {},
   "source": [
    "Basic expression to approximate"
   ]
  },
  {
   "cell_type": "code",
   "execution_count": 13,
   "metadata": {},
   "outputs": [
    {
     "data": {
      "text/latex": [
       "$\\displaystyle \\frac{\\sqrt[6]{\\alpha}}{\\sqrt[3]{\\sqrt{\\alpha + 1} - 1}} - \\frac{\\sqrt[3]{\\sqrt{\\alpha + 1} - 1}}{\\sqrt[6]{\\alpha}}$"
      ],
      "text/plain": [
       "alpha**(1/6)/(sqrt(alpha + 1) - 1)**(1/3) - (sqrt(alpha + 1) - 1)**(1/3)/alpha**(1/6)"
      ]
     },
     "metadata": {},
     "output_type": "display_data"
    }
   ],
   "source": [
    "cbt=(alpha**(sympy.Rational(-1,6))*(-1+sympy.sqrt(1+alpha))**\n",
    "     (sympy.Rational(1,3)))\n",
    "f=1/cbt-cbt\n",
    "display(f)"
   ]
  },
  {
   "cell_type": "markdown",
   "metadata": {},
   "source": [
    "Rewriting:"
   ]
  },
  {
   "cell_type": "code",
   "execution_count": 14,
   "metadata": {},
   "outputs": [
    {
     "data": {
      "text/latex": [
       "$\\displaystyle \\frac{- \\frac{\\sqrt{\\alpha + 1}}{3} + \\frac{1}{3} + \\frac{3 \\sqrt{\\alpha + 1} + 3}{\\alpha^{\\frac{2}{3}}}}{\\sqrt[6]{\\alpha}}$"
      ],
      "text/plain": [
       "(-sqrt(alpha + 1)/3 + 1/3 + (3*sqrt(alpha + 1) + 3)/alpha**(2/3))/alpha**(1/6)"
      ]
     },
     "metadata": {},
     "output_type": "display_data"
    }
   ],
   "source": [
    "f2=(alpha**sympy.Rational(-1,6)*\n",
    "((3*(1+sympy.sqrt(1+alpha)))/alpha**sympy.Rational(2,3)-\n",
    " (sympy.sqrt(1+alpha)-1)/3))\n",
    "display(f2)"
   ]
  },
  {
   "cell_type": "markdown",
   "metadata": {},
   "source": [
    "Binomial expansion:"
   ]
  },
  {
   "cell_type": "code",
   "execution_count": 19,
   "metadata": {},
   "outputs": [
    {
     "data": {
      "text/latex": [
       "$\\displaystyle \\sum_{k=0}^{n} \\alpha^{k} {\\binom{\\frac{1}{2}}{k}}$"
      ],
      "text/plain": [
       "Sum(alpha**k*binomial(1/2, k), (k, 0, n))"
      ]
     },
     "metadata": {},
     "output_type": "display_data"
    }
   ],
   "source": [
    "f3=sympy.Sum(sympy.binomial(sympy.Rational(1,2),k)*alpha**k,(k,0,n))\n",
    "display(f3)"
   ]
  },
  {
   "cell_type": "markdown",
   "metadata": {},
   "source": [
    "Rewriting with beta=1/alpha"
   ]
  },
  {
   "cell_type": "code",
   "execution_count": 24,
   "metadata": {},
   "outputs": [],
   "source": [
    "f4=f3.subs(n,4).doit()"
   ]
  },
  {
   "cell_type": "code",
   "execution_count": 30,
   "metadata": {},
   "outputs": [
    {
     "data": {
      "text/latex": [
       "$\\displaystyle \\frac{\\frac{5 \\alpha^{4}}{384} - \\frac{\\alpha^{3}}{48} + \\frac{\\alpha^{2}}{24} - \\frac{\\alpha}{6} + \\frac{- \\frac{15 \\alpha^{4}}{128} + \\frac{3 \\alpha^{3}}{16} - \\frac{3 \\alpha^{2}}{8} + \\frac{3 \\alpha}{2} + 6}{\\alpha^{\\frac{2}{3}}}}{\\sqrt[6]{\\alpha}}$"
      ],
      "text/plain": [
       "(5*alpha**4/384 - alpha**3/48 + alpha**2/24 - alpha/6 + (-15*alpha**4/128 + 3*alpha**3/16 - 3*alpha**2/8 + 3*alpha/2 + 6)/alpha**(2/3))/alpha**(1/6)"
      ]
     },
     "metadata": {},
     "output_type": "display_data"
    }
   ],
   "source": [
    "f5=((-f4*sympy.Rational(1,3)+sympy.Rational(1,3)+\n",
    "    3*(f4+1)/alpha**(sympy.Rational(2,3)))/\n",
    "    alpha**(sympy.Rational(1,6)))\n",
    "display(f5)"
   ]
  },
  {
   "cell_type": "code",
   "execution_count": 34,
   "metadata": {},
   "outputs": [
    {
     "data": {
      "text/latex": [
       "$\\displaystyle \\frac{5 \\alpha^{\\frac{23}{6}}}{384} - \\frac{15 \\alpha^{\\frac{19}{6}}}{128} - \\frac{\\alpha^{\\frac{17}{6}}}{48} + \\frac{3 \\alpha^{\\frac{13}{6}}}{16} + \\frac{\\alpha^{\\frac{11}{6}}}{24} - \\frac{3 \\alpha^{\\frac{7}{6}}}{8} - \\frac{\\alpha^{\\frac{5}{6}}}{6} + \\frac{3 \\sqrt[6]{\\alpha}}{2} + \\frac{6}{\\alpha^{\\frac{5}{6}}}$"
      ],
      "text/plain": [
       "5*alpha**(23/6)/384 - 15*alpha**(19/6)/128 - alpha**(17/6)/48 + 3*alpha**(13/6)/16 + alpha**(11/6)/24 - 3*alpha**(7/6)/8 - alpha**(5/6)/6 + 3*alpha**(1/6)/2 + 6/alpha**(5/6)"
      ]
     },
     "execution_count": 34,
     "metadata": {},
     "output_type": "execute_result"
    }
   ],
   "source": [
    "f5.expand()"
   ]
  },
  {
   "cell_type": "code",
   "execution_count": 39,
   "metadata": {},
   "outputs": [
    {
     "data": {
      "text/latex": [
       "$\\displaystyle \\frac{\\sqrt[3]{2}}{\\sqrt[6]{\\alpha}} - \\frac{2^{\\frac{2}{3}} \\sqrt[6]{\\alpha}}{2} + \\frac{\\sqrt[3]{2} \\alpha^{\\frac{5}{6}}}{12} + \\frac{2^{\\frac{2}{3}} \\alpha^{\\frac{7}{6}}}{24} - \\frac{\\sqrt[3]{2} \\alpha^{\\frac{11}{6}}}{36} - \\frac{5 \\cdot 2^{\\frac{2}{3}} \\alpha^{\\frac{13}{6}}}{288} + \\frac{77 \\sqrt[3]{2} \\alpha^{\\frac{17}{6}}}{5184} + \\frac{13 \\cdot 2^{\\frac{2}{3}} \\alpha^{\\frac{19}{6}}}{1296} - \\frac{595 \\sqrt[3]{2} \\alpha^{\\frac{23}{6}}}{62208} + O\\left(\\alpha^{4}\\right)$"
      ],
      "text/plain": [
       "2**(1/3)/alpha**(1/6) - 2**(2/3)*alpha**(1/6)/2 + 2**(1/3)*alpha**(5/6)/12 + 2**(2/3)*alpha**(7/6)/24 - 2**(1/3)*alpha**(11/6)/36 - 5*2**(2/3)*alpha**(13/6)/288 + 77*2**(1/3)*alpha**(17/6)/5184 + 13*2**(2/3)*alpha**(19/6)/1296 - 595*2**(1/3)*alpha**(23/6)/62208 + O(alpha**4)"
      ]
     },
     "execution_count": 39,
     "metadata": {},
     "output_type": "execute_result"
    }
   ],
   "source": [
    "sympy.series(f,alpha,0,4)"
   ]
  },
  {
   "cell_type": "code",
   "execution_count": null,
   "metadata": {},
   "outputs": [],
   "source": []
  }
 ],
 "metadata": {
  "kernelspec": {
   "display_name": "Python 3",
   "language": "python",
   "name": "python3"
  },
  "language_info": {
   "codemirror_mode": {
    "name": "ipython",
    "version": 3
   },
   "file_extension": ".py",
   "mimetype": "text/x-python",
   "name": "python",
   "nbconvert_exporter": "python",
   "pygments_lexer": "ipython3",
   "version": "3.9.1"
  }
 },
 "nbformat": 4,
 "nbformat_minor": 4
}

{
 "cells": [
  {
   "cell_type": "code",
   "execution_count": 3,
   "metadata": {},
   "outputs": [],
   "source": [
    "import sympy\n",
    "sympy.init_printing()"
   ]
  },
  {
   "cell_type": "code",
   "execution_count": 4,
   "metadata": {},
   "outputs": [],
   "source": [
    "t=sympy.Symbol('t')\n",
    "k=sympy.Symbol('k')\n",
    "x=sympy.Symbol('x')"
   ]
  },
  {
   "cell_type": "markdown",
   "metadata": {},
   "source": [
    "Pressure for particles:"
   ]
  },
  {
   "cell_type": "code",
   "execution_count": 5,
   "metadata": {},
   "outputs": [
    {
     "data": {
      "image/png": "[encoded data removed]",
      "text/latex": [
       "$\\displaystyle \\frac{\\left(-1\\right)^{k + 1} t^{2} e^{\\frac{k \\left(x + 1\\right)}{t}} K_{2}\\left(\\frac{k}{t}\\right)}{k^{2}}$"
      ],
      "text/plain": [
       "              k⋅(x + 1)              \n",
       "              ─────────              \n",
       "    k + 1  2      t            ⎛   k⎞\n",
       "(-1)     ⋅t ⋅ℯ         ⋅besselk⎜2, ─⎟\n",
       "                               ⎝   t⎠\n",
       "─────────────────────────────────────\n",
       "                   2                 \n",
       "                  k                  "
      ]
     },
     "execution_count": 5,
     "metadata": {},
     "output_type": "execute_result"
    }
   ],
   "source": [
    "Pk=t**2*(-1)**(k+1)/k/k*sympy.exp(k*(x+1)/t)*sympy.besselk(2,k/t)\n",
    "Pk"
   ]
  },
  {
   "cell_type": "markdown",
   "metadata": {},
   "source": [
    "Pressure for antiparticles:"
   ]
  },
  {
   "cell_type": "code",
   "execution_count": 6,
   "metadata": {},
   "outputs": [
    {
     "data": {
      "image/png": "[encoded data removed]",
      "text/latex": [
       "$\\displaystyle \\frac{2 \\left(-1\\right)^{k + 1} t^{2} \\cosh{\\left(\\frac{k \\left(x + 1\\right)}{t} \\right)} K_{2}\\left(\\frac{k}{t}\\right)}{k^{2}}$"
      ],
      "text/plain": [
       "      k + 1  2     ⎛k⋅(x + 1)⎞        ⎛   k⎞\n",
       "2⋅(-1)     ⋅t ⋅cosh⎜─────────⎟⋅besselk⎜2, ─⎟\n",
       "                   ⎝    t    ⎠        ⎝   t⎠\n",
       "────────────────────────────────────────────\n",
       "                      2                     \n",
       "                     k                      "
      ]
     },
     "execution_count": 6,
     "metadata": {},
     "output_type": "execute_result"
    }
   ],
   "source": [
    "Pka=(2*t**2*(-1)**(k+1)/k/k*sympy.cosh(k*(x+1)/t)*\n",
    "     sympy.besselk(2,k/t))\n",
    "Pka"
   ]
  },
  {
   "cell_type": "markdown",
   "metadata": {},
   "source": [
    "Show that the pressure for antiparticles is correct:"
   ]
  },
  {
   "cell_type": "code",
   "execution_count": 7,
   "metadata": {},
   "outputs": [
    {
     "data": {
      "image/png": "[encoded data removed]",
      "text/latex": [
       "$\\displaystyle 0$"
      ],
      "text/plain": [
       "0"
      ]
     },
     "execution_count": 7,
     "metadata": {},
     "output_type": "execute_result"
    }
   ],
   "source": [
    "Pka2=(Pk+t**2*(-1)**(k+1)/k/k*sympy.exp(k*(-x-1)/t)*\n",
    "      sympy.besselk(2,k/t))\n",
    "Pka3=Pka2.subs(sympy.exp(k*(x+1)/t),2*sympy.cosh(k*(x+1)/t)-\n",
    "               sympy.exp(-k*(x+1)/t))\n",
    "sympy.simplify(Pka3-Pka)"
   ]
  },
  {
   "cell_type": "markdown",
   "metadata": {},
   "source": [
    "Number density for particles:"
   ]
  },
  {
   "cell_type": "code",
   "execution_count": 8,
   "metadata": {},
   "outputs": [],
   "source": [
    "nk=sympy.simplify(sympy.diff(Pk,x))"
   ]
  },
  {
   "cell_type": "code",
   "execution_count": 9,
   "metadata": {},
   "outputs": [
    {
     "data": {
      "image/png": "[encoded data removed]",
      "text/latex": [
       "$\\displaystyle \\frac{k}{t}$"
      ],
      "text/plain": [
       "k\n",
       "─\n",
       "t"
      ]
     },
     "execution_count": 9,
     "metadata": {},
     "output_type": "execute_result"
    }
   ],
   "source": [
    "sympy.simplify(nk/Pk)"
   ]
  },
  {
   "cell_type": "code",
   "execution_count": 10,
   "metadata": {},
   "outputs": [],
   "source": [
    "sk=sympy.simplify(sympy.diff(Pk,t))"
   ]
  },
  {
   "cell_type": "code",
   "execution_count": 11,
   "metadata": {},
   "outputs": [
    {
     "data": {
      "image/png": "[encoded data removed]",
      "text/latex": [
       "$\\displaystyle - \\frac{- \\left(-1\\right)^{k + 1} k^{2} t e^{\\frac{k \\left(x + 1\\right)}{t}} K_{1}\\left(\\frac{k}{t}\\right) - \\left(-1\\right)^{k + 1} t \\left(k^{2} x K_{0}\\left(\\frac{k}{t}\\right) + k^{2} K_{0}\\left(\\frac{k}{t}\\right) - k^{2} K_{1}\\left(\\frac{k}{t}\\right) + 2 k t x K_{1}\\left(\\frac{k}{t}\\right) - 4 k t K_{0}\\left(\\frac{k}{t}\\right) + 2 k t K_{1}\\left(\\frac{k}{t}\\right) - 8 t^{2} K_{1}\\left(\\frac{k}{t}\\right)\\right) e^{\\frac{k \\left(x + 1\\right)}{t}} + k^{2} nk \\left(k x + k - 4 t\\right)}{k^{3} t}$"
      ],
      "text/plain": [
       " ⎛                  k⋅(x + 1)                                                 \n",
       " ⎜                  ─────────                                                 \n",
       " ⎜      k + 1  2        t            ⎛   k⎞       k + 1   ⎛ 2          ⎛   k⎞ \n",
       "-⎜- (-1)     ⋅k ⋅t⋅ℯ         ⋅besselk⎜1, ─⎟ - (-1)     ⋅t⋅⎜k ⋅x⋅besselk⎜0, ─⎟ \n",
       " ⎝                                   ⎝   t⎠               ⎝            ⎝   t⎠ \n",
       "──────────────────────────────────────────────────────────────────────────────\n",
       "                                                                              \n",
       "                                                                              \n",
       "\n",
       "                                                                              \n",
       "                                                                              \n",
       "   2        ⎛   k⎞    2        ⎛   k⎞                  ⎛   k⎞                ⎛\n",
       "+ k ⋅besselk⎜0, ─⎟ - k ⋅besselk⎜1, ─⎟ + 2⋅k⋅t⋅x⋅besselk⎜1, ─⎟ - 4⋅k⋅t⋅besselk⎜\n",
       "            ⎝   t⎠             ⎝   t⎠                  ⎝   t⎠                ⎝\n",
       "──────────────────────────────────────────────────────────────────────────────\n",
       "                                          3                                   \n",
       "                                         k ⋅t                                 \n",
       "\n",
       "                                                   k⋅(x + 1)                  \n",
       "                                                   ─────────                  \n",
       "   k⎞                ⎛   k⎞      2        ⎛   k⎞⎞      t        2             \n",
       "0, ─⎟ + 2⋅k⋅t⋅besselk⎜1, ─⎟ - 8⋅t ⋅besselk⎜1, ─⎟⎟⋅ℯ          + k ⋅nk⋅(k⋅x + k \n",
       "   t⎠                ⎝   t⎠               ⎝   t⎠⎠                             \n",
       "──────────────────────────────────────────────────────────────────────────────\n",
       "                                                                              \n",
       "                                                                              \n",
       "\n",
       "      ⎞ \n",
       "      ⎟ \n",
       "      ⎟ \n",
       "- 4⋅t)⎟ \n",
       "      ⎠ \n",
       "────────\n",
       "        \n",
       "        "
      ]
     },
     "execution_count": 11,
     "metadata": {},
     "output_type": "execute_result"
    }
   ],
   "source": [
    "nk_old=nk\n",
    "nk=sympy.Symbol('nk')\n",
    "skalt=(nk*(4*t-k*x-k)/k/t+\n",
    "       (-1)**(k+1)/k*sympy.exp(k*(x+1)/t)*\n",
    "       sympy.besselk(1,k/t))\n",
    "diff=sympy.simplify(skalt-sk)\n",
    "nk=nk_old\n",
    "diff"
   ]
  },
  {
   "cell_type": "code",
   "execution_count": 12,
   "metadata": {},
   "outputs": [],
   "source": [
    "edk=sympy.simplify(-Pk+t*sk+(x+1)*nk)"
   ]
  },
  {
   "cell_type": "code",
   "execution_count": null,
   "metadata": {},
   "outputs": [],
   "source": []
  }
 ],
 "metadata": {
  "kernelspec": {
   "display_name": "Python 3",
   "language": "python",
   "name": "python3"
  },
  "language_info": {
   "codemirror_mode": {
    "name": "ipython",
    "version": 3
   },
   "file_extension": ".py",
   "mimetype": "text/x-python",
   "name": "python",
   "nbconvert_exporter": "python",
   "pygments_lexer": "ipython3",
   "version": "3.8.5"
  }
 },
 "nbformat": 4,
 "nbformat_minor": 4
}
